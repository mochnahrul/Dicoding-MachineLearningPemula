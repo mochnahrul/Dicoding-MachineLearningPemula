{
  "nbformat": 4,
  "nbformat_minor": 0,
  "metadata": {
    "colab": {
      "provenance": []
    },
    "kernelspec": {
      "name": "python3",
      "display_name": "Python 3"
    },
    "language_info": {
      "name": "python"
    }
  },
  "cells": [
    {
      "cell_type": "code",
      "metadata": {
        "colab": {
          "base_uri": "https://localhost:8080/"
        },
        "id": "7ZewElgoeXKw",
        "outputId": "d2bd6f72-0d46-4189-a154-fbc276fb1c63"
      },
      "source": [
        "from sklearn.model_selection import train_test_split\n",
        "\n",
        "X_data = range(10)\n",
        "y_data = range(10)\n",
        "\n",
        "print('random_state ditentukan')\n",
        "for i in range(3):\n",
        "    X_train, X_test, y_train, y_test = train_test_split(X_data, y_data, test_size = 0.3, random_state = 42)\n",
        "    print(y_test)\n",
        "\n",
        "print('random_state tidak ditentukan')\n",
        "for i in range(3):\n",
        "    X_train, X_test, y_train, y_test = train_test_split(X_data, y_data, test_size = 0.3, random_state = None)\n",
        "    print(y_test)"
      ],
      "execution_count": 1,
      "outputs": [
        {
          "output_type": "stream",
          "name": "stdout",
          "text": [
            "random_state ditentukan\n",
            "[8, 1, 5]\n",
            "[8, 1, 5]\n",
            "[8, 1, 5]\n",
            "random_state tidak ditentukan\n",
            "[8, 2, 4]\n",
            "[2, 5, 4]\n",
            "[4, 9, 6]\n"
          ]
        }
      ]
    }
  ]
}