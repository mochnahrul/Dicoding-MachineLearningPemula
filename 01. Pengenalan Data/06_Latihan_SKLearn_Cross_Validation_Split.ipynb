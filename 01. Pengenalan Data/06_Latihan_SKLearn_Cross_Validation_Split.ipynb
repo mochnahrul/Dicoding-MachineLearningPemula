{
  "nbformat": 4,
  "nbformat_minor": 0,
  "metadata": {
    "colab": {
      "provenance": []
    },
    "kernelspec": {
      "name": "python3",
      "display_name": "Python 3"
    },
    "language_info": {
      "name": "python"
    }
  },
  "cells": [
    {
      "cell_type": "code",
      "metadata": {
        "id": "x3IfBdg0gRql"
      },
      "source": [
        "import sklearn\n",
        "from sklearn import datasets"
      ],
      "execution_count": 1,
      "outputs": []
    },
    {
      "cell_type": "code",
      "metadata": {
        "id": "o1hrMEnnxVfa"
      },
      "source": [
        "# Load iris dataset\n",
        "iris = datasets.load_iris()"
      ],
      "execution_count": 2,
      "outputs": []
    },
    {
      "cell_type": "code",
      "metadata": {
        "id": "Rm-NdN0_gU6g"
      },
      "source": [
        "# Mendefinisikan atribut dan label pada dataset\n",
        "x = iris.data\n",
        "y = iris.target"
      ],
      "execution_count": 3,
      "outputs": []
    },
    {
      "cell_type": "code",
      "metadata": {
        "id": "Ifu6JT9kx5UD"
      },
      "source": [
        "from sklearn import tree\n",
        "\n",
        "# Membuat model dengan decision tree classifier\n",
        "clf = tree.DecisionTreeClassifier()"
      ],
      "execution_count": 4,
      "outputs": []
    },
    {
      "cell_type": "code",
      "metadata": {
        "id": "FIMhJ75WyKB9",
        "colab": {
          "base_uri": "https://localhost:8080/"
        },
        "outputId": "772752a2-7327-4782-d9d7-22af4ad679ba"
      },
      "source": [
        "from sklearn.model_selection import cross_val_score\n",
        "\n",
        "# Mengevaluasi performa model dengan cross_val_score\n",
        "scores = cross_val_score(clf, x, y, cv=5)\n",
        "scores"
      ],
      "execution_count": 5,
      "outputs": [
        {
          "output_type": "execute_result",
          "data": {
            "text/plain": [
              "array([0.96666667, 0.96666667, 0.9       , 0.93333333, 1.        ])"
            ]
          },
          "metadata": {},
          "execution_count": 5
        }
      ]
    }
  ]
}